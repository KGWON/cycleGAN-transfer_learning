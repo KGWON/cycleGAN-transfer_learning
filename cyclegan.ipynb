{
 "cells": [
  {
   "cell_type": "markdown",
   "metadata": {},
   "source": [
    "## 1. 환경 설정"
   ]
  },
  {
   "cell_type": "code",
   "execution_count": 1,
   "metadata": {},
   "outputs": [
    {
     "name": "stdout",
     "output_type": "stream",
     "text": [
      "Requirement already satisfied: dominate in ./anaconda3/envs/pytorch_p36/lib/python3.6/site-packages (2.4.0)\n",
      "\u001b[31mfastai 1.0.55 requires nvidia-ml-py3, which is not installed.\u001b[0m\n",
      "\u001b[31mthinc 6.12.1 has requirement msgpack<0.6.0,>=0.5.6, but you'll have msgpack 0.6.0 which is incompatible.\u001b[0m\n",
      "\u001b[33mYou are using pip version 10.0.1, however version 19.2.3 is available.\n",
      "You should consider upgrading via the 'pip install --upgrade pip' command.\u001b[0m\n",
      "Requirement already satisfied: visdom in ./anaconda3/envs/pytorch_p36/lib/python3.6/site-packages (0.1.8.9)\n",
      "Requirement already satisfied: jsonpatch in ./anaconda3/envs/pytorch_p36/lib/python3.6/site-packages (from visdom) (1.24)\n",
      "Requirement already satisfied: scipy in ./anaconda3/envs/pytorch_p36/lib/python3.6/site-packages (from visdom) (1.1.0)\n",
      "Requirement already satisfied: numpy>=1.8 in ./anaconda3/envs/pytorch_p36/lib/python3.6/site-packages (from visdom) (1.15.4)\n",
      "Requirement already satisfied: requests in ./anaconda3/envs/pytorch_p36/lib/python3.6/site-packages (from visdom) (2.20.0)\n",
      "Requirement already satisfied: tornado in ./anaconda3/envs/pytorch_p36/lib/python3.6/site-packages (from visdom) (5.0.2)\n",
      "Requirement already satisfied: pyzmq in ./anaconda3/envs/pytorch_p36/lib/python3.6/site-packages (from visdom) (17.0.0)\n",
      "Requirement already satisfied: six in ./anaconda3/envs/pytorch_p36/lib/python3.6/site-packages (from visdom) (1.11.0)\n",
      "Requirement already satisfied: torchfile in ./anaconda3/envs/pytorch_p36/lib/python3.6/site-packages (from visdom) (0.1.0)\n",
      "Requirement already satisfied: pillow in ./anaconda3/envs/pytorch_p36/lib/python3.6/site-packages (from visdom) (5.2.0)\n",
      "Requirement already satisfied: websocket-client in ./anaconda3/envs/pytorch_p36/lib/python3.6/site-packages (from visdom) (0.56.0)\n",
      "Requirement already satisfied: jsonpointer>=1.9 in ./anaconda3/envs/pytorch_p36/lib/python3.6/site-packages (from jsonpatch->visdom) (2.0)\n",
      "Requirement already satisfied: chardet<3.1.0,>=3.0.2 in ./anaconda3/envs/pytorch_p36/lib/python3.6/site-packages (from requests->visdom) (3.0.4)\n",
      "Requirement already satisfied: urllib3<1.25,>=1.21.1 in ./anaconda3/envs/pytorch_p36/lib/python3.6/site-packages (from requests->visdom) (1.23)\n",
      "Requirement already satisfied: idna<2.8,>=2.5 in ./anaconda3/envs/pytorch_p36/lib/python3.6/site-packages (from requests->visdom) (2.6)\n",
      "Requirement already satisfied: certifi>=2017.4.17 in ./anaconda3/envs/pytorch_p36/lib/python3.6/site-packages (from requests->visdom) (2019.6.16)\n",
      "\u001b[31mfastai 1.0.55 requires nvidia-ml-py3, which is not installed.\u001b[0m\n",
      "\u001b[31mthinc 6.12.1 has requirement msgpack<0.6.0,>=0.5.6, but you'll have msgpack 0.6.0 which is incompatible.\u001b[0m\n",
      "\u001b[33mYou are using pip version 10.0.1, however version 19.2.3 is available.\n",
      "You should consider upgrading via the 'pip install --upgrade pip' command.\u001b[0m\n"
     ]
    }
   ],
   "source": [
    "!pip install dominate\n",
    "!pip install visdom\n",
    "import os"
   ]
  },
  {
   "cell_type": "code",
   "execution_count": 2,
   "metadata": {},
   "outputs": [
    {
     "name": "stdout",
     "output_type": "stream",
     "text": [
      "Fri Sep 27 02:24:20 2019       \r\n",
      "+-----------------------------------------------------------------------------+\r\n",
      "| NVIDIA-SMI 418.87.00    Driver Version: 418.87.00    CUDA Version: 10.1     |\r\n",
      "|-------------------------------+----------------------+----------------------+\r\n",
      "| GPU  Name        Persistence-M| Bus-Id        Disp.A | Volatile Uncorr. ECC |\r\n",
      "| Fan  Temp  Perf  Pwr:Usage/Cap|         Memory-Usage | GPU-Util  Compute M. |\r\n",
      "|===============================+======================+======================|\r\n",
      "|   0  Tesla K80           On   | 00000000:00:1E.0 Off |                    0 |\r\n",
      "| N/A   77C    P8    27W / 149W |      0MiB / 11441MiB |      0%      Default |\r\n",
      "+-------------------------------+----------------------+----------------------+\r\n",
      "                                                                               \r\n",
      "+-----------------------------------------------------------------------------+\r\n",
      "| Processes:                                                       GPU Memory |\r\n",
      "|  GPU       PID   Type   Process name                             Usage      |\r\n",
      "|=============================================================================|\r\n",
      "|  No running processes found                                                 |\r\n",
      "+-----------------------------------------------------------------------------+\r\n"
     ]
    }
   ],
   "source": [
    "!nvidia-smi"
   ]
  },
  {
   "cell_type": "code",
   "execution_count": 3,
   "metadata": {},
   "outputs": [],
   "source": [
    "if 'pytorch-CycleGAN-and-pix2pix' not in os.listdir():\n",
    "    !git clone https://github.com/junyanz/pytorch-CycleGAN-and-pix2pix.git"
   ]
  },
  {
   "cell_type": "code",
   "execution_count": 4,
   "metadata": {},
   "outputs": [
    {
     "name": "stdout",
     "output_type": "stream",
     "text": [
      "/home/ubuntu/pytorch-CycleGAN-and-pix2pix\n"
     ]
    }
   ],
   "source": [
    "%cd pytorch-CycleGAN-and-pix2pix/"
   ]
  },
  {
   "cell_type": "code",
   "execution_count": 5,
   "metadata": {},
   "outputs": [],
   "source": [
    "# photo 이미지를 내려 받는다.\n",
    "if 'vangogh2photo' not in os.listdir('./datasets'):\n",
    "    !bash ./datasets/download_cyclegan_dataset.sh vangogh2photo"
   ]
  },
  {
   "cell_type": "markdown",
   "metadata": {},
   "source": [
    "## 학습을 진행한다\n",
    "- dataroot: 학습에 사용할 데이터셋이 위치한 경로 지정\n",
    "- name: checkpoint 파일이 저장된 폴더 이름 지정\n",
    "- model: 어떤 모델을 사용할지 결정 {cyclegan, pix2pix}\n",
    "- display_id:\n",
    "- save_latest_freq: 가장 최근 모델을 얼마 iteration 간격으로 저장할 것인지 설정.\n",
    "- save_epoch_freq: 몇 번의 epoch 마다 모델을 저장할 것인지 설정\n",
    "- print_freq: 몇 번의 iteration 마다 현재 진행 상황을 출력할 것인지 설정\n",
    "- continue_train: 학습을 아예 처음부터 시작할 것인지, 이전의 가중치 파일을 로드해서 시작할 것인지 결정. 전이학습을 위한 플래그"
   ]
  },
  {
   "cell_type": "code",
   "execution_count": null,
   "metadata": {},
   "outputs": [],
   "source": [
    "!python train.py --dataroot ./datasets/vangogh2photo --name vangogh2photo --model cycle_gan --display_id -1  --save_latest_freq 100 --save_epoch_freq 1  --print_freq 100 --continue_train"
   ]
  }
 ],
 "metadata": {
  "kernelspec": {
   "display_name": "Python [conda env:pytorch_p36]",
   "language": "python",
   "name": "conda-env-pytorch_p36-py"
  },
  "language_info": {
   "codemirror_mode": {
    "name": "ipython",
    "version": 3
   },
   "file_extension": ".py",
   "mimetype": "text/x-python",
   "name": "python",
   "nbconvert_exporter": "python",
   "pygments_lexer": "ipython3",
   "version": "3.6.5"
  }
 },
 "nbformat": 4,
 "nbformat_minor": 2
}
